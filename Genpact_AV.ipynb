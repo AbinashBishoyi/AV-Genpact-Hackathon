{
 "cells": [
  {
   "cell_type": "code",
   "execution_count": 183,
   "metadata": {
    "ExecuteTime": {
     "end_time": "2018-11-17T08:52:50.403283Z",
     "start_time": "2018-11-17T08:52:50.395465Z"
    }
   },
   "outputs": [],
   "source": [
    "import re\n",
    "import gc"
   ]
  },
  {
   "cell_type": "code",
   "execution_count": 184,
   "metadata": {
    "ExecuteTime": {
     "end_time": "2018-11-17T08:53:00.292079Z",
     "start_time": "2018-11-17T08:52:50.543569Z"
    }
   },
   "outputs": [],
   "source": [
    "import numpy as np,pandas as pd\n",
    "from sklearn.ensemble import RandomForestRegressor\n",
    "import xgboost as xgb\n",
    "from sklearn.model_selection import train_test_split\n",
    "from sklearn.metrics import roc_auc_score,auc\n",
    "from sklearn.metrics import confusion_matrix,accuracy_score\n",
    "from xgboost import plot_importance\n",
    "import matplotlib.pyplot as plt\n",
    "%matplotlib inline \n",
    "from sklearn.model_selection import train_test_split\n",
    "import lightgbm as lgbm\n",
    "import pickle\n",
    "from sklearn.preprocessing import LabelEncoder"
   ]
  },
  {
   "cell_type": "code",
   "execution_count": 185,
   "metadata": {},
   "outputs": [],
   "source": [
    "np.random.seed(0)"
   ]
  },
  {
   "cell_type": "code",
   "execution_count": 186,
   "metadata": {
    "ExecuteTime": {
     "end_time": "2018-11-17T08:53:25.285924Z",
     "start_time": "2018-11-17T08:53:00.294379Z"
    }
   },
   "outputs": [
    {
     "name": "stdout",
     "output_type": "stream",
     "text": [
      "CPU times: user 272 ms, sys: 3.98 ms, total: 276 ms\n",
      "Wall time: 248 ms\n"
     ]
    }
   ],
   "source": [
    "%%time\n",
    "test=pd.read_csv('test_QoiMO9B.csv')\n",
    "train=pd.read_csv('train_GzS76OK/train.csv')\n",
    "center=pd.read_csv('train_GzS76OK/fulfilment_center_info.csv')\n",
    "meal=pd.read_csv('train_GzS76OK/meal_info.csv')\n",
    "#sub=pd.read_csv('sample_submission.csv')\n"
   ]
  },
  {
   "cell_type": "markdown",
   "metadata": {
    "ExecuteTime": {
     "end_time": "2018-03-27T15:15:48.490099Z",
     "start_time": "2018-03-27T15:15:48.484141Z"
    }
   },
   "source": [
    "### PREPROCESSING"
   ]
  },
  {
   "cell_type": "code",
   "execution_count": 187,
   "metadata": {
    "ExecuteTime": {
     "end_time": "2018-11-17T08:53:46.785953Z",
     "start_time": "2018-11-17T08:53:46.778284Z"
    }
   },
   "outputs": [],
   "source": [
    "def save_model(model,filename):\n",
    "    filename = filename+'.sav'\n",
    "    pickle.dump(model, open(filename, 'wb'))\n",
    "    print('model saved as '+filename)\n"
   ]
  },
  {
   "cell_type": "code",
   "execution_count": 188,
   "metadata": {
    "ExecuteTime": {
     "end_time": "2018-11-17T08:53:47.039856Z",
     "start_time": "2018-11-17T08:53:46.975815Z"
    }
   },
   "outputs": [
    {
     "data": {
      "text/plain": [
       "((456548, 9), (77, 5), (51, 3), (32573, 8))"
      ]
     },
     "execution_count": 188,
     "metadata": {},
     "output_type": "execute_result"
    }
   ],
   "source": [
    "train.shape,center.shape,meal.shape,test.shape"
   ]
  },
  {
   "cell_type": "code",
   "execution_count": 189,
   "metadata": {
    "ExecuteTime": {
     "end_time": "2018-11-17T08:53:47.355319Z",
     "start_time": "2018-11-17T08:53:47.151541Z"
    }
   },
   "outputs": [
    {
     "data": {
      "text/html": [
       "<div>\n",
       "<style scoped>\n",
       "    .dataframe tbody tr th:only-of-type {\n",
       "        vertical-align: middle;\n",
       "    }\n",
       "\n",
       "    .dataframe tbody tr th {\n",
       "        vertical-align: top;\n",
       "    }\n",
       "\n",
       "    .dataframe thead th {\n",
       "        text-align: right;\n",
       "    }\n",
       "</style>\n",
       "<table border=\"1\" class=\"dataframe\">\n",
       "  <thead>\n",
       "    <tr style=\"text-align: right;\">\n",
       "      <th></th>\n",
       "      <th>id</th>\n",
       "      <th>week</th>\n",
       "      <th>center_id</th>\n",
       "      <th>meal_id</th>\n",
       "      <th>checkout_price</th>\n",
       "      <th>base_price</th>\n",
       "      <th>emailer_for_promotion</th>\n",
       "      <th>homepage_featured</th>\n",
       "      <th>num_orders</th>\n",
       "    </tr>\n",
       "  </thead>\n",
       "  <tbody>\n",
       "    <tr>\n",
       "      <th>0</th>\n",
       "      <td>1379560</td>\n",
       "      <td>1</td>\n",
       "      <td>55</td>\n",
       "      <td>1885</td>\n",
       "      <td>136.83</td>\n",
       "      <td>152.29</td>\n",
       "      <td>0</td>\n",
       "      <td>0</td>\n",
       "      <td>177</td>\n",
       "    </tr>\n",
       "    <tr>\n",
       "      <th>1</th>\n",
       "      <td>1466964</td>\n",
       "      <td>1</td>\n",
       "      <td>55</td>\n",
       "      <td>1993</td>\n",
       "      <td>136.83</td>\n",
       "      <td>135.83</td>\n",
       "      <td>0</td>\n",
       "      <td>0</td>\n",
       "      <td>270</td>\n",
       "    </tr>\n",
       "    <tr>\n",
       "      <th>2</th>\n",
       "      <td>1346989</td>\n",
       "      <td>1</td>\n",
       "      <td>55</td>\n",
       "      <td>2539</td>\n",
       "      <td>134.86</td>\n",
       "      <td>135.86</td>\n",
       "      <td>0</td>\n",
       "      <td>0</td>\n",
       "      <td>189</td>\n",
       "    </tr>\n",
       "    <tr>\n",
       "      <th>3</th>\n",
       "      <td>1338232</td>\n",
       "      <td>1</td>\n",
       "      <td>55</td>\n",
       "      <td>2139</td>\n",
       "      <td>339.50</td>\n",
       "      <td>437.53</td>\n",
       "      <td>0</td>\n",
       "      <td>0</td>\n",
       "      <td>54</td>\n",
       "    </tr>\n",
       "    <tr>\n",
       "      <th>4</th>\n",
       "      <td>1448490</td>\n",
       "      <td>1</td>\n",
       "      <td>55</td>\n",
       "      <td>2631</td>\n",
       "      <td>243.50</td>\n",
       "      <td>242.50</td>\n",
       "      <td>0</td>\n",
       "      <td>0</td>\n",
       "      <td>40</td>\n",
       "    </tr>\n",
       "  </tbody>\n",
       "</table>\n",
       "</div>"
      ],
      "text/plain": [
       "        id  week  center_id  meal_id  checkout_price  base_price  \\\n",
       "0  1379560     1         55     1885          136.83      152.29   \n",
       "1  1466964     1         55     1993          136.83      135.83   \n",
       "2  1346989     1         55     2539          134.86      135.86   \n",
       "3  1338232     1         55     2139          339.50      437.53   \n",
       "4  1448490     1         55     2631          243.50      242.50   \n",
       "\n",
       "   emailer_for_promotion  homepage_featured  num_orders  \n",
       "0                      0                  0         177  \n",
       "1                      0                  0         270  \n",
       "2                      0                  0         189  \n",
       "3                      0                  0          54  \n",
       "4                      0                  0          40  "
      ]
     },
     "execution_count": 189,
     "metadata": {},
     "output_type": "execute_result"
    }
   ],
   "source": [
    "train.head()"
   ]
  },
  {
   "cell_type": "code",
   "execution_count": 190,
   "metadata": {},
   "outputs": [
    {
     "data": {
      "text/html": [
       "<div>\n",
       "<style scoped>\n",
       "    .dataframe tbody tr th:only-of-type {\n",
       "        vertical-align: middle;\n",
       "    }\n",
       "\n",
       "    .dataframe tbody tr th {\n",
       "        vertical-align: top;\n",
       "    }\n",
       "\n",
       "    .dataframe thead th {\n",
       "        text-align: right;\n",
       "    }\n",
       "</style>\n",
       "<table border=\"1\" class=\"dataframe\">\n",
       "  <thead>\n",
       "    <tr style=\"text-align: right;\">\n",
       "      <th></th>\n",
       "      <th>id</th>\n",
       "      <th>week</th>\n",
       "      <th>center_id</th>\n",
       "      <th>meal_id</th>\n",
       "      <th>checkout_price</th>\n",
       "      <th>base_price</th>\n",
       "      <th>emailer_for_promotion</th>\n",
       "      <th>homepage_featured</th>\n",
       "    </tr>\n",
       "  </thead>\n",
       "  <tbody>\n",
       "    <tr>\n",
       "      <th>0</th>\n",
       "      <td>1028232</td>\n",
       "      <td>146</td>\n",
       "      <td>55</td>\n",
       "      <td>1885</td>\n",
       "      <td>158.11</td>\n",
       "      <td>159.11</td>\n",
       "      <td>0</td>\n",
       "      <td>0</td>\n",
       "    </tr>\n",
       "    <tr>\n",
       "      <th>1</th>\n",
       "      <td>1127204</td>\n",
       "      <td>146</td>\n",
       "      <td>55</td>\n",
       "      <td>1993</td>\n",
       "      <td>160.11</td>\n",
       "      <td>159.11</td>\n",
       "      <td>0</td>\n",
       "      <td>0</td>\n",
       "    </tr>\n",
       "    <tr>\n",
       "      <th>2</th>\n",
       "      <td>1212707</td>\n",
       "      <td>146</td>\n",
       "      <td>55</td>\n",
       "      <td>2539</td>\n",
       "      <td>157.14</td>\n",
       "      <td>159.14</td>\n",
       "      <td>0</td>\n",
       "      <td>0</td>\n",
       "    </tr>\n",
       "    <tr>\n",
       "      <th>3</th>\n",
       "      <td>1082698</td>\n",
       "      <td>146</td>\n",
       "      <td>55</td>\n",
       "      <td>2631</td>\n",
       "      <td>162.02</td>\n",
       "      <td>162.02</td>\n",
       "      <td>0</td>\n",
       "      <td>0</td>\n",
       "    </tr>\n",
       "    <tr>\n",
       "      <th>4</th>\n",
       "      <td>1400926</td>\n",
       "      <td>146</td>\n",
       "      <td>55</td>\n",
       "      <td>1248</td>\n",
       "      <td>163.93</td>\n",
       "      <td>163.93</td>\n",
       "      <td>0</td>\n",
       "      <td>0</td>\n",
       "    </tr>\n",
       "  </tbody>\n",
       "</table>\n",
       "</div>"
      ],
      "text/plain": [
       "        id  week  center_id  meal_id  checkout_price  base_price  \\\n",
       "0  1028232   146         55     1885          158.11      159.11   \n",
       "1  1127204   146         55     1993          160.11      159.11   \n",
       "2  1212707   146         55     2539          157.14      159.14   \n",
       "3  1082698   146         55     2631          162.02      162.02   \n",
       "4  1400926   146         55     1248          163.93      163.93   \n",
       "\n",
       "   emailer_for_promotion  homepage_featured  \n",
       "0                      0                  0  \n",
       "1                      0                  0  \n",
       "2                      0                  0  \n",
       "3                      0                  0  \n",
       "4                      0                  0  "
      ]
     },
     "execution_count": 190,
     "metadata": {},
     "output_type": "execute_result"
    }
   ],
   "source": [
    "test.head()"
   ]
  },
  {
   "cell_type": "code",
   "execution_count": 191,
   "metadata": {
    "ExecuteTime": {
     "end_time": "2018-11-17T08:53:49.049418Z",
     "start_time": "2018-11-17T08:53:48.738777Z"
    }
   },
   "outputs": [
    {
     "name": "stdout",
     "output_type": "stream",
     "text": [
      "id  :  456548\n",
      "week  :  145\n",
      "center_id  :  77\n",
      "meal_id  :  51\n",
      "checkout_price  :  1992\n",
      "base_price  :  1907\n",
      "emailer_for_promotion  :  2\n",
      "homepage_featured  :  2\n",
      "num_orders  :  1250\n"
     ]
    }
   ],
   "source": [
    "for i in train.columns : \n",
    "    print(i,' : ' ,train[i].nunique())"
   ]
  },
  {
   "cell_type": "code",
   "execution_count": 192,
   "metadata": {},
   "outputs": [],
   "source": [
    "train['week_num']=train.week%52\n",
    "test['week_num']=test.week%52"
   ]
  },
  {
   "cell_type": "markdown",
   "metadata": {},
   "source": [
    "## Validation"
   ]
  },
  {
   "cell_type": "code",
   "execution_count": 193,
   "metadata": {},
   "outputs": [],
   "source": [
    "# def get_validset(train):\n",
    "#     test = train[train.week>=135]\n",
    "#     train=train[train.week<135]\n",
    "#     return train,test\n",
    "\n",
    "# train,test=get_validset(train)\n",
    "# train.shape,test.shape\n",
    "\n",
    "\n",
    "# test.num_orders=np.log1p(test.num_orders)\n"
   ]
  },
  {
   "cell_type": "code",
   "execution_count": 194,
   "metadata": {},
   "outputs": [],
   "source": [
    "#changing target to its log value \n",
    "train.num_orders=np.log1p(train.num_orders)"
   ]
  },
  {
   "cell_type": "code",
   "execution_count": 195,
   "metadata": {
    "ExecuteTime": {
     "end_time": "2018-11-17T08:54:01.524870Z",
     "start_time": "2018-11-17T08:54:01.456249Z"
    }
   },
   "outputs": [
    {
     "name": "stdout",
     "output_type": "stream",
     "text": [
      "CPU times: user 342 ms, sys: 16 ms, total: 358 ms\n",
      "Wall time: 130 ms\n"
     ]
    }
   ],
   "source": [
    "%%time\n",
    "train=pd.merge(train,center,how='left',on=['center_id'])\n",
    "test=pd.merge(test,center,how='left',on=['center_id'])\n",
    "train=pd.merge(train,meal,how='left',on=['meal_id'])\n",
    "test=pd.merge(test,meal,how='left',on=['meal_id'])\n",
    "train.shape,test.shape"
   ]
  },
  {
   "cell_type": "code",
   "execution_count": 196,
   "metadata": {},
   "outputs": [
    {
     "data": {
      "text/plain": [
       "77"
      ]
     },
     "execution_count": 196,
     "metadata": {},
     "output_type": "execute_result"
    }
   ],
   "source": [
    "train.center_id.nunique()"
   ]
  },
  {
   "cell_type": "code",
   "execution_count": 197,
   "metadata": {
    "scrolled": true
   },
   "outputs": [
    {
     "data": {
      "text/plain": [
       "[<matplotlib.lines.Line2D at 0x7fa040cde470>]"
      ]
     },
     "execution_count": 197,
     "metadata": {},
     "output_type": "execute_result"
    },
    {
     "data": {
      "image/png": "[encoded data removed]",
      "text/plain": [
       "<Figure size 432x288 with 1 Axes>"
      ]
     },
     "metadata": {},
     "output_type": "display_data"
    }
   ],
   "source": [
    "temp=train[(train.meal_id==1993)&(train.center_id==55)]\n",
    "temp=temp.groupby(['week'])['num_orders'].sum().reset_index()\n",
    "\n",
    "plt.plot(temp.week,temp.num_orders)"
   ]
  },
  {
   "cell_type": "code",
   "execution_count": 198,
   "metadata": {},
   "outputs": [],
   "source": [
    "# train['discount_applied']=((train.base_price-train.checkout_price)>0).astype(int)\n",
    "# test['discount_applied']=((test.base_price-test.checkout_price)>0).astype(int)"
   ]
  },
  {
   "cell_type": "code",
   "execution_count": 199,
   "metadata": {},
   "outputs": [],
   "source": [
    "train['discount_amount']=train.base_price-train.checkout_price\n",
    "test['discount_amount']=test.base_price-test.checkout_price"
   ]
  },
  {
   "cell_type": "code",
   "execution_count": 200,
   "metadata": {
    "ExecuteTime": {
     "end_time": "2018-11-17T08:54:14.974054Z",
     "start_time": "2018-11-17T08:54:14.904176Z"
    }
   },
   "outputs": [
    {
     "data": {
      "text/plain": [
       "((456548, 17), (32573, 16))"
      ]
     },
     "execution_count": 200,
     "metadata": {},
     "output_type": "execute_result"
    }
   ],
   "source": [
    "train.shape,test.shape"
   ]
  },
  {
   "cell_type": "code",
   "execution_count": 201,
   "metadata": {},
   "outputs": [],
   "source": [
    "def get_count_id_encode(train,test,col,name):\n",
    "    temp=train.groupby(col)['id'].count().reset_index().rename(columns={'id':name})\n",
    "    train=pd.merge(train,temp,how='left',on=col)\n",
    "    test=pd.merge(test,temp,how='left',on=col)\n",
    "    train[name]=train[name].astype(float)\n",
    "    test[name]=test[name].astype(float)\n",
    "    train[name].fillna(np.median(temp[name]),inplace=True)\n",
    "    test[name].fillna(np.median(temp[name]),inplace=True)\n",
    "    return train,test"
   ]
  },
  {
   "cell_type": "code",
   "execution_count": 202,
   "metadata": {
    "scrolled": true
   },
   "outputs": [],
   "source": [
    "train,test = get_count_id_encode(train,test,col=['meal_id','center_id'],name='count_id_meal_center')\n",
    "train,test = get_count_id_encode(train,test,col=['cuisine','center_id'],name='count_id_cuisine_center')\n",
    "train,test = get_count_id_encode(train,test,col=['meal_id'],name='count_id_meal')"
   ]
  },
  {
   "cell_type": "code",
   "execution_count": 203,
   "metadata": {},
   "outputs": [],
   "source": [
    "train,test = get_count_id_encode(train,test,col=['category','center_id'],name='count_id_category_center')\n",
    "train,test = get_count_id_encode(train,test,col=['center_id'],name='count_id_center')"
   ]
  },
  {
   "cell_type": "code",
   "execution_count": 204,
   "metadata": {},
   "outputs": [
    {
     "data": {
      "text/html": [
       "<div>\n",
       "<style scoped>\n",
       "    .dataframe tbody tr th:only-of-type {\n",
       "        vertical-align: middle;\n",
       "    }\n",
       "\n",
       "    .dataframe tbody tr th {\n",
       "        vertical-align: top;\n",
       "    }\n",
       "\n",
       "    .dataframe thead th {\n",
       "        text-align: right;\n",
       "    }\n",
       "</style>\n",
       "<table border=\"1\" class=\"dataframe\">\n",
       "  <thead>\n",
       "    <tr style=\"text-align: right;\">\n",
       "      <th></th>\n",
       "      <th>id</th>\n",
       "      <th>week</th>\n",
       "      <th>center_id</th>\n",
       "      <th>meal_id</th>\n",
       "      <th>checkout_price</th>\n",
       "      <th>base_price</th>\n",
       "      <th>emailer_for_promotion</th>\n",
       "      <th>homepage_featured</th>\n",
       "      <th>num_orders</th>\n",
       "      <th>week_num</th>\n",
       "      <th>...</th>\n",
       "      <th>center_type</th>\n",
       "      <th>op_area</th>\n",
       "      <th>category</th>\n",
       "      <th>cuisine</th>\n",
       "      <th>discount_amount</th>\n",
       "      <th>count_id_meal_center</th>\n",
       "      <th>count_id_cuisine_center</th>\n",
       "      <th>count_id_meal</th>\n",
       "      <th>count_id_category_center</th>\n",
       "      <th>count_id_center</th>\n",
       "    </tr>\n",
       "  </thead>\n",
       "  <tbody>\n",
       "    <tr>\n",
       "      <th>0</th>\n",
       "      <td>1379560</td>\n",
       "      <td>1</td>\n",
       "      <td>55</td>\n",
       "      <td>1885</td>\n",
       "      <td>136.83</td>\n",
       "      <td>152.29</td>\n",
       "      <td>0</td>\n",
       "      <td>0</td>\n",
       "      <td>5.181784</td>\n",
       "      <td>1</td>\n",
       "      <td>...</td>\n",
       "      <td>TYPE_C</td>\n",
       "      <td>2.0</td>\n",
       "      <td>Beverages</td>\n",
       "      <td>Thai</td>\n",
       "      <td>15.46</td>\n",
       "      <td>145.0</td>\n",
       "      <td>1279.0</td>\n",
       "      <td>11092.0</td>\n",
       "      <td>1646.0</td>\n",
       "      <td>5146.0</td>\n",
       "    </tr>\n",
       "    <tr>\n",
       "      <th>1</th>\n",
       "      <td>1466964</td>\n",
       "      <td>1</td>\n",
       "      <td>55</td>\n",
       "      <td>1993</td>\n",
       "      <td>136.83</td>\n",
       "      <td>135.83</td>\n",
       "      <td>0</td>\n",
       "      <td>0</td>\n",
       "      <td>5.602119</td>\n",
       "      <td>1</td>\n",
       "      <td>...</td>\n",
       "      <td>TYPE_C</td>\n",
       "      <td>2.0</td>\n",
       "      <td>Beverages</td>\n",
       "      <td>Thai</td>\n",
       "      <td>-1.00</td>\n",
       "      <td>145.0</td>\n",
       "      <td>1279.0</td>\n",
       "      <td>11116.0</td>\n",
       "      <td>1646.0</td>\n",
       "      <td>5146.0</td>\n",
       "    </tr>\n",
       "    <tr>\n",
       "      <th>2</th>\n",
       "      <td>1346989</td>\n",
       "      <td>1</td>\n",
       "      <td>55</td>\n",
       "      <td>2539</td>\n",
       "      <td>134.86</td>\n",
       "      <td>135.86</td>\n",
       "      <td>0</td>\n",
       "      <td>0</td>\n",
       "      <td>5.247024</td>\n",
       "      <td>1</td>\n",
       "      <td>...</td>\n",
       "      <td>TYPE_C</td>\n",
       "      <td>2.0</td>\n",
       "      <td>Beverages</td>\n",
       "      <td>Thai</td>\n",
       "      <td>1.00</td>\n",
       "      <td>144.0</td>\n",
       "      <td>1279.0</td>\n",
       "      <td>10451.0</td>\n",
       "      <td>1646.0</td>\n",
       "      <td>5146.0</td>\n",
       "    </tr>\n",
       "    <tr>\n",
       "      <th>3</th>\n",
       "      <td>1338232</td>\n",
       "      <td>1</td>\n",
       "      <td>55</td>\n",
       "      <td>2139</td>\n",
       "      <td>339.50</td>\n",
       "      <td>437.53</td>\n",
       "      <td>0</td>\n",
       "      <td>0</td>\n",
       "      <td>4.007333</td>\n",
       "      <td>1</td>\n",
       "      <td>...</td>\n",
       "      <td>TYPE_C</td>\n",
       "      <td>2.0</td>\n",
       "      <td>Beverages</td>\n",
       "      <td>Indian</td>\n",
       "      <td>98.03</td>\n",
       "      <td>101.0</td>\n",
       "      <td>1174.0</td>\n",
       "      <td>8899.0</td>\n",
       "      <td>1646.0</td>\n",
       "      <td>5146.0</td>\n",
       "    </tr>\n",
       "    <tr>\n",
       "      <th>4</th>\n",
       "      <td>1448490</td>\n",
       "      <td>1</td>\n",
       "      <td>55</td>\n",
       "      <td>2631</td>\n",
       "      <td>243.50</td>\n",
       "      <td>242.50</td>\n",
       "      <td>0</td>\n",
       "      <td>0</td>\n",
       "      <td>3.713572</td>\n",
       "      <td>1</td>\n",
       "      <td>...</td>\n",
       "      <td>TYPE_C</td>\n",
       "      <td>2.0</td>\n",
       "      <td>Beverages</td>\n",
       "      <td>Indian</td>\n",
       "      <td>-1.00</td>\n",
       "      <td>129.0</td>\n",
       "      <td>1174.0</td>\n",
       "      <td>10458.0</td>\n",
       "      <td>1646.0</td>\n",
       "      <td>5146.0</td>\n",
       "    </tr>\n",
       "  </tbody>\n",
       "</table>\n",
       "<p>5 rows × 22 columns</p>\n",
       "</div>"
      ],
      "text/plain": [
       "        id  week  center_id  meal_id  checkout_price  base_price  \\\n",
       "0  1379560     1         55     1885          136.83      152.29   \n",
       "1  1466964     1         55     1993          136.83      135.83   \n",
       "2  1346989     1         55     2539          134.86      135.86   \n",
       "3  1338232     1         55     2139          339.50      437.53   \n",
       "4  1448490     1         55     2631          243.50      242.50   \n",
       "\n",
       "   emailer_for_promotion  homepage_featured  num_orders  week_num  \\\n",
       "0                      0                  0    5.181784         1   \n",
       "1                      0                  0    5.602119         1   \n",
       "2                      0                  0    5.247024         1   \n",
       "3                      0                  0    4.007333         1   \n",
       "4                      0                  0    3.713572         1   \n",
       "\n",
       "        ...         center_type  op_area   category  cuisine discount_amount  \\\n",
       "0       ...              TYPE_C      2.0  Beverages     Thai           15.46   \n",
       "1       ...              TYPE_C      2.0  Beverages     Thai           -1.00   \n",
       "2       ...              TYPE_C      2.0  Beverages     Thai            1.00   \n",
       "3       ...              TYPE_C      2.0  Beverages   Indian           98.03   \n",
       "4       ...              TYPE_C      2.0  Beverages   Indian           -1.00   \n",
       "\n",
       "  count_id_meal_center  count_id_cuisine_center  count_id_meal  \\\n",
       "0                145.0                   1279.0        11092.0   \n",
       "1                145.0                   1279.0        11116.0   \n",
       "2                144.0                   1279.0        10451.0   \n",
       "3                101.0                   1174.0         8899.0   \n",
       "4                129.0                   1174.0        10458.0   \n",
       "\n",
       "   count_id_category_center  count_id_center  \n",
       "0                    1646.0           5146.0  \n",
       "1                    1646.0           5146.0  \n",
       "2                    1646.0           5146.0  \n",
       "3                    1646.0           5146.0  \n",
       "4                    1646.0           5146.0  \n",
       "\n",
       "[5 rows x 22 columns]"
      ]
     },
     "execution_count": 204,
     "metadata": {},
     "output_type": "execute_result"
    }
   ],
   "source": [
    "train.head()"
   ]
  },
  {
   "cell_type": "code",
   "execution_count": 205,
   "metadata": {},
   "outputs": [],
   "source": [
    "def get_count_encode(train,test,col,name):\n",
    "    temp=train.groupby(col)['num_orders'].mean().reset_index().rename(columns={'num_orders':name})\n",
    "    train=pd.merge(train,temp,how='left',on=col)\n",
    "    test=pd.merge(test,temp,how='left',on=col)\n",
    "    train[name].fillna(np.median(temp[name]),inplace=True)\n",
    "    test[name].fillna(np.median(temp[name]),inplace=True)\n",
    "    return train,test"
   ]
  },
  {
   "cell_type": "code",
   "execution_count": 206,
   "metadata": {
    "scrolled": true
   },
   "outputs": [],
   "source": [
    "train,test = get_count_encode(train,test,col=['meal_id','center_id'],name='count_meal_center_id')"
   ]
  },
  {
   "cell_type": "code",
   "execution_count": 207,
   "metadata": {},
   "outputs": [],
   "source": [
    "train,test = get_count_encode(train,test,col=['center_id','cuisine'],name='count_center_cuisine')\n",
    "train,test = get_count_encode(train,test,col=['center_id','category'],name='count_center_category')\n",
    "\n",
    "train,test = get_count_encode(train,test,col=['center_id','category','cuisine'],name='count_center_category_cuisine')\n",
    "train,test = get_count_encode(train,test,col=['cuisine','category'],name='count_cuisine_category')"
   ]
  },
  {
   "cell_type": "code",
   "execution_count": 208,
   "metadata": {},
   "outputs": [],
   "source": [
    "train,test = get_count_encode(train,test,col=['center_id'],name='count_center_id')\n",
    "train,test = get_count_encode(train,test,col=['meal_id'],name='count_meal_id')"
   ]
  },
  {
   "cell_type": "code",
   "execution_count": 209,
   "metadata": {},
   "outputs": [],
   "source": [
    "train,test = get_count_encode(train,test,col=['cuisine','region_code'],name='count_cuisine_region')\n",
    "train,test = get_count_encode(train,test,col=['category','region_code'],name='count_category_region')"
   ]
  },
  {
   "cell_type": "code",
   "execution_count": 210,
   "metadata": {},
   "outputs": [],
   "source": [
    "train,test = get_count_encode(train,test,col=['city_code','cuisine'],name='count_city_cuisine')"
   ]
  },
  {
   "cell_type": "code",
   "execution_count": 211,
   "metadata": {},
   "outputs": [],
   "source": [
    "train,test = get_count_encode(train,test,col=['city_code','region_code'],name='count_city_region')"
   ]
  },
  {
   "cell_type": "code",
   "execution_count": 212,
   "metadata": {},
   "outputs": [],
   "source": [
    "def get_count_encode(train,test,col,price='base_price',name='name'):\n",
    "    temp=train.groupby(col)[price].mean().reset_index().rename(columns={price:name})\n",
    "    train=pd.merge(train,temp,how='left',on=col)\n",
    "    test=pd.merge(test,temp,how='left',on=col)\n",
    "    train[name].fillna(np.median(temp[name]),inplace=True)\n",
    "    test[name].fillna(np.median(temp[name]),inplace=True)\n",
    "    return train,test"
   ]
  },
  {
   "cell_type": "code",
   "execution_count": 213,
   "metadata": {},
   "outputs": [],
   "source": [
    "train,test = get_count_encode(train,test,col=['meal_id','center_id'],price='base_price',\n",
    "                              name='price_meal_center')\n",
    "train,test = get_count_encode(train,test,col=['meal_id','center_id'],price='checkout_price',\n",
    "                              name='price_co_meal_center')\n",
    "train,test = get_count_encode(train,test,col=['center_id','cuisine'],price='base_price',\n",
    "                              name='price_meal')\n",
    "train,test = get_count_encode(train,test,col=['center_id','cuisine'],price='checkout_price',\n",
    "                              name='price_co_meal')"
   ]
  },
  {
   "cell_type": "code",
   "execution_count": null,
   "metadata": {},
   "outputs": [],
   "source": []
  },
  {
   "cell_type": "code",
   "execution_count": 214,
   "metadata": {},
   "outputs": [],
   "source": [
    "# pd.get_dummies(train.center_type).rename(columns={'1':'center_type_1','0':'center_type_0','2':'center_type_2'})"
   ]
  },
  {
   "cell_type": "code",
   "execution_count": 215,
   "metadata": {
    "ExecuteTime": {
     "end_time": "2018-11-17T08:56:01.723500Z",
     "start_time": "2018-11-17T08:56:00.986454Z"
    }
   },
   "outputs": [
    {
     "name": "stdout",
     "output_type": "stream",
     "text": [
      "center_type\n",
      "category\n",
      "cuisine\n"
     ]
    }
   ],
   "source": [
    "for i in train.columns :\n",
    "    if train[i].dtypes=='object':\n",
    "        print(i)\n",
    "        le=LabelEncoder()\n",
    "        train[i]=le.fit_transform(train[i])\n",
    "        test[i]=le.transform(test[i])"
   ]
  },
  {
   "cell_type": "code",
   "execution_count": 217,
   "metadata": {
    "scrolled": true
   },
   "outputs": [],
   "source": [
    "# train.head(38)"
   ]
  },
  {
   "cell_type": "markdown",
   "metadata": {
    "ExecuteTime": {
     "end_time": "2018-03-27T15:15:29.026330Z",
     "start_time": "2018-03-27T15:15:29.021176Z"
    }
   },
   "source": [
    "### MODELS"
   ]
  },
  {
   "cell_type": "code",
   "execution_count": 170,
   "metadata": {
    "ExecuteTime": {
     "end_time": "2018-11-17T08:56:12.783458Z",
     "start_time": "2018-11-17T08:56:12.765350Z"
    },
    "scrolled": true
   },
   "outputs": [],
   "source": [
    "# test.drop(['DateTime','session_id'],axis=1,inplace=True)"
   ]
  },
  {
   "cell_type": "code",
   "execution_count": 218,
   "metadata": {
    "ExecuteTime": {
     "end_time": "2018-11-17T08:56:13.041216Z",
     "start_time": "2018-11-17T08:56:13.000939Z"
    }
   },
   "outputs": [],
   "source": [
    "X=train.drop(['id','week','num_orders','center_id','meal_id'],axis=1)\n",
    "Y=train.num_orders"
   ]
  },
  {
   "cell_type": "code",
   "execution_count": 219,
   "metadata": {
    "ExecuteTime": {
     "end_time": "2018-11-17T08:56:13.963360Z",
     "start_time": "2018-11-17T08:56:13.956605Z"
    }
   },
   "outputs": [
    {
     "data": {
      "text/plain": [
       "((456548, 32), (456548,))"
      ]
     },
     "execution_count": 219,
     "metadata": {},
     "output_type": "execute_result"
    }
   ],
   "source": [
    "X.shape,Y.shape"
   ]
  },
  {
   "cell_type": "code",
   "execution_count": 220,
   "metadata": {
    "ExecuteTime": {
     "end_time": "2018-11-17T08:56:17.012172Z",
     "start_time": "2018-11-17T08:56:17.006134Z"
    }
   },
   "outputs": [],
   "source": [
    "# x_test=test.drop(['id','week','num_orders','center_id','meal_id'],axis=1)\n",
    "# y_test = test.num_orders\n",
    "# x_test.shape,y_test.shape"
   ]
  },
  {
   "cell_type": "code",
   "execution_count": 221,
   "metadata": {},
   "outputs": [],
   "source": [
    "from sklearn.metrics import mean_squared_error\n",
    "from math import sqrt\n",
    "\n",
    "def rmse(y_true, y_pred):\n",
    "    return 100*sqrt(mean_squared_error(y_true, y_pred))\n",
    "    "
   ]
  },
  {
   "cell_type": "code",
   "execution_count": 222,
   "metadata": {
    "ExecuteTime": {
     "end_time": "2018-04-14T23:16:52.700843Z",
     "start_time": "2018-04-14T23:16:52.638720Z"
    }
   },
   "outputs": [],
   "source": [
    "\n",
    "dtrain = xgb.DMatrix(X, label=Y)\n",
    "# dtest = xgb.DMatrix(x_test)"
   ]
  },
  {
   "cell_type": "code",
   "execution_count": 223,
   "metadata": {
    "ExecuteTime": {
     "end_time": "2018-04-14T23:17:31.694768Z",
     "start_time": "2018-04-14T23:16:54.318187Z"
    }
   },
   "outputs": [],
   "source": [
    "def train_xgb(max_depth=6,num_round=1000,seed=0):\n",
    "    param = {\n",
    "        'max_depth':max_depth,# the maximum depth of each tree\n",
    "        'eta': 0.1,# the training step for each iteration\n",
    "        'silent': 1,  # logging mode - quiet\n",
    "        'objective': 'reg:linear',  # error evaluation for multiclass training\n",
    "        'eval_metric':'rmse',\n",
    "        'seed':seed\n",
    "\n",
    "    }  # the number of classes that exist in this datset\n",
    "    num_round = num_round\n",
    "    bst= xgb.train(param, dtrain, num_round)\n",
    "    return bst\n"
   ]
  },
  {
   "cell_type": "code",
   "execution_count": 224,
   "metadata": {},
   "outputs": [
    {
     "name": "stdout",
     "output_type": "stream",
     "text": [
      "CPU times: user 29min 30s, sys: 5.57 s, total: 29min 36s\n",
      "Wall time: 3min 45s\n"
     ]
    }
   ],
   "source": [
    "%%time\n",
    "bst=train_xgb(6,1200,0)\n",
    "# bst1=train_xgb(6,1200,105)\n",
    "\n",
    "# pred = bst.predict(dtest)\n",
    "# print(rmse(y_test,pred))"
   ]
  },
  {
   "cell_type": "code",
   "execution_count": 225,
   "metadata": {
    "ExecuteTime": {
     "end_time": "2018-04-14T23:17:33.006764Z",
     "start_time": "2018-04-14T23:17:32.345870Z"
    },
    "scrolled": false
   },
   "outputs": [
    {
     "data": {
      "text/plain": [
       "<matplotlib.axes._subplots.AxesSubplot at 0x7fa040d0bf60>"
      ]
     },
     "execution_count": 225,
     "metadata": {},
     "output_type": "execute_result"
    },
    {
     "data": {
      "image/png": "[encoded data removed]",
      "text/plain": [
       "<Figure size 360x360 with 1 Axes>"
      ]
     },
     "metadata": {},
     "output_type": "display_data"
    }
   ],
   "source": [
    "_,ax = plt.subplots(1,1,figsize=(5,5))\n",
    "plot_importance(bst,ax)"
   ]
  },
  {
   "cell_type": "code",
   "execution_count": 179,
   "metadata": {},
   "outputs": [
    {
     "data": {
      "text/plain": [
       "41"
      ]
     },
     "execution_count": 179,
     "metadata": {},
     "output_type": "execute_result"
    }
   ],
   "source": [
    "gc.collect()"
   ]
  },
  {
   "cell_type": "markdown",
   "metadata": {
    "ExecuteTime": {
     "end_time": "2018-04-14T21:13:33.356147Z",
     "start_time": "2018-04-14T21:13:33.351512Z"
    }
   },
   "source": [
    "### Lightgbm"
   ]
  },
  {
   "cell_type": "code",
   "execution_count": 226,
   "metadata": {
    "ExecuteTime": {
     "end_time": "2018-04-14T21:10:46.901100Z",
     "start_time": "2018-04-14T21:10:37.817444Z"
    }
   },
   "outputs": [],
   "source": [
    "def train_lgb(max_depth=5,seed=4,num_round=2500):\n",
    "    d_train = lgbm.Dataset(X,Y)\n",
    "    #d_valid = lgbm.Dataset(X_valid, Y_valid)\n",
    "    params = {\n",
    "        'objective' :'regression',\n",
    "        'max_depth':max_depth,\n",
    "        'learning_rate' : 0.1,\n",
    "        'num_leaves' :(2*max_depth)-1 ,\n",
    "        'feature_fraction': 0.8,\n",
    "        \"min_data_in_leaf\" : 100,\n",
    "        'bagging_fraction': 0.7, \n",
    "        #'bagging_freq':1,\n",
    "        'boosting_type' : 'gbdt',\n",
    "        'metric': 'rmse',\n",
    "        'seed':seed\n",
    "    }\n",
    "    lgb= lgbm.train(params, d_train, num_round)\n",
    "    return lgb\n"
   ]
  },
  {
   "cell_type": "code",
   "execution_count": 227,
   "metadata": {
    "scrolled": true
   },
   "outputs": [],
   "source": [
    "lgb1=train_lgb(6,4,2500)\n",
    "# lgb2=train_lgb(6,999,2500)\n",
    "# pred = lgb1.predict(x_test)\n",
    "# print(rmse(y_test,pred))"
   ]
  },
  {
   "cell_type": "code",
   "execution_count": 228,
   "metadata": {
    "scrolled": false
   },
   "outputs": [
    {
     "data": {
      "text/plain": [
       "<matplotlib.axes._subplots.AxesSubplot at 0x7fa040c95d68>"
      ]
     },
     "execution_count": 228,
     "metadata": {},
     "output_type": "execute_result"
    },
    {
     "data": {
      "image/png": "[encoded data removed]",
      "text/plain": [
       "<Figure size 864x432 with 1 Axes>"
      ]
     },
     "metadata": {},
     "output_type": "display_data"
    }
   ],
   "source": [
    "_,ax = plt.subplots(1,1,figsize=(12,6))\n",
    "lgbm.plot_importance(lgb1,ax=ax)"
   ]
  },
  {
   "cell_type": "markdown",
   "metadata": {
    "ExecuteTime": {
     "end_time": "2018-04-14T21:13:33.470910Z",
     "start_time": "2018-04-14T21:13:33.362304Z"
    }
   },
   "source": [
    "## SUBMISSION"
   ]
  },
  {
   "cell_type": "code",
   "execution_count": 230,
   "metadata": {
    "ExecuteTime": {
     "end_time": "2018-04-14T23:17:34.326319Z",
     "start_time": "2018-04-14T23:17:33.013245Z"
    },
    "scrolled": true
   },
   "outputs": [
    {
     "name": "stdout",
     "output_type": "stream",
     "text": [
      "(32573, 2)\n"
     ]
    },
    {
     "data": {
      "text/html": [
       "<div>\n",
       "<style scoped>\n",
       "    .dataframe tbody tr th:only-of-type {\n",
       "        vertical-align: middle;\n",
       "    }\n",
       "\n",
       "    .dataframe tbody tr th {\n",
       "        vertical-align: top;\n",
       "    }\n",
       "\n",
       "    .dataframe thead th {\n",
       "        text-align: right;\n",
       "    }\n",
       "</style>\n",
       "<table border=\"1\" class=\"dataframe\">\n",
       "  <thead>\n",
       "    <tr style=\"text-align: right;\">\n",
       "      <th></th>\n",
       "      <th>id</th>\n",
       "      <th>num_orders</th>\n",
       "    </tr>\n",
       "  </thead>\n",
       "  <tbody>\n",
       "    <tr>\n",
       "      <th>0</th>\n",
       "      <td>1028232</td>\n",
       "      <td>135.382172</td>\n",
       "    </tr>\n",
       "    <tr>\n",
       "      <th>1</th>\n",
       "      <td>1127204</td>\n",
       "      <td>122.416481</td>\n",
       "    </tr>\n",
       "    <tr>\n",
       "      <th>2</th>\n",
       "      <td>1212707</td>\n",
       "      <td>129.429703</td>\n",
       "    </tr>\n",
       "    <tr>\n",
       "      <th>3</th>\n",
       "      <td>1082698</td>\n",
       "      <td>47.829472</td>\n",
       "    </tr>\n",
       "    <tr>\n",
       "      <th>4</th>\n",
       "      <td>1400926</td>\n",
       "      <td>34.885857</td>\n",
       "    </tr>\n",
       "  </tbody>\n",
       "</table>\n",
       "</div>"
      ],
      "text/plain": [
       "        id  num_orders\n",
       "0  1028232  135.382172\n",
       "1  1127204  122.416481\n",
       "2  1212707  129.429703\n",
       "3  1082698   47.829472\n",
       "4  1400926   34.885857"
      ]
     },
     "execution_count": 230,
     "metadata": {},
     "output_type": "execute_result"
    }
   ],
   "source": [
    "ddtest=xgb.DMatrix(test.drop(['id','week','center_id','meal_id'],axis=1))\n",
    "pred=bst.predict(ddtest)#+bst1.predict(ddtest)+bst2.predict(ddtest)+bst3.predict(ddtest))/4\n",
    "sub=pd.DataFrame()\n",
    "sub['id']=test.id\n",
    "sub['num_orders']=np.expm1(pred)\n",
    "print(sub.shape)\n",
    "sub.head()"
   ]
  },
  {
   "cell_type": "code",
   "execution_count": 231,
   "metadata": {},
   "outputs": [],
   "source": [
    "sub.to_csv('xgb-feature-xgb-10.csv',index=False)"
   ]
  },
  {
   "cell_type": "code",
   "execution_count": 232,
   "metadata": {},
   "outputs": [
    {
     "data": {
      "text/html": [
       "<div>\n",
       "<style scoped>\n",
       "    .dataframe tbody tr th:only-of-type {\n",
       "        vertical-align: middle;\n",
       "    }\n",
       "\n",
       "    .dataframe tbody tr th {\n",
       "        vertical-align: top;\n",
       "    }\n",
       "\n",
       "    .dataframe thead th {\n",
       "        text-align: right;\n",
       "    }\n",
       "</style>\n",
       "<table border=\"1\" class=\"dataframe\">\n",
       "  <thead>\n",
       "    <tr style=\"text-align: right;\">\n",
       "      <th></th>\n",
       "      <th>id</th>\n",
       "      <th>num_orders</th>\n",
       "    </tr>\n",
       "  </thead>\n",
       "  <tbody>\n",
       "    <tr>\n",
       "      <th>0</th>\n",
       "      <td>1028232</td>\n",
       "      <td>144.430810</td>\n",
       "    </tr>\n",
       "    <tr>\n",
       "      <th>1</th>\n",
       "      <td>1127204</td>\n",
       "      <td>145.814154</td>\n",
       "    </tr>\n",
       "    <tr>\n",
       "      <th>2</th>\n",
       "      <td>1212707</td>\n",
       "      <td>116.443550</td>\n",
       "    </tr>\n",
       "    <tr>\n",
       "      <th>3</th>\n",
       "      <td>1082698</td>\n",
       "      <td>38.040306</td>\n",
       "    </tr>\n",
       "    <tr>\n",
       "      <th>4</th>\n",
       "      <td>1400926</td>\n",
       "      <td>31.648292</td>\n",
       "    </tr>\n",
       "  </tbody>\n",
       "</table>\n",
       "</div>"
      ],
      "text/plain": [
       "        id  num_orders\n",
       "0  1028232  144.430810\n",
       "1  1127204  145.814154\n",
       "2  1212707  116.443550\n",
       "3  1082698   38.040306\n",
       "4  1400926   31.648292"
      ]
     },
     "execution_count": 232,
     "metadata": {},
     "output_type": "execute_result"
    }
   ],
   "source": [
    "temp=test.drop(['id','week','center_id','meal_id'],axis=1)\n",
    "pred = lgb1.predict(temp)#+lgb2.predict(temp))/2\n",
    "sub1=pd.DataFrame()\n",
    "sub1['id']=test.id\n",
    "sub1['num_orders']=np.expm1(pred)\n",
    "sub1.head()"
   ]
  },
  {
   "cell_type": "code",
   "execution_count": 233,
   "metadata": {
    "ExecuteTime": {
     "end_time": "2018-04-14T23:17:34.512330Z",
     "start_time": "2018-04-14T23:17:34.346704Z"
    }
   },
   "outputs": [],
   "source": [
    "# sub1.to_csv('lgb-5.csv',index=False)"
   ]
  },
  {
   "cell_type": "code",
   "execution_count": 235,
   "metadata": {},
   "outputs": [
    {
     "data": {
      "text/html": [
       "<div>\n",
       "<style scoped>\n",
       "    .dataframe tbody tr th:only-of-type {\n",
       "        vertical-align: middle;\n",
       "    }\n",
       "\n",
       "    .dataframe tbody tr th {\n",
       "        vertical-align: top;\n",
       "    }\n",
       "\n",
       "    .dataframe thead th {\n",
       "        text-align: right;\n",
       "    }\n",
       "</style>\n",
       "<table border=\"1\" class=\"dataframe\">\n",
       "  <thead>\n",
       "    <tr style=\"text-align: right;\">\n",
       "      <th></th>\n",
       "      <th>id</th>\n",
       "      <th>num_orders</th>\n",
       "    </tr>\n",
       "  </thead>\n",
       "  <tbody>\n",
       "    <tr>\n",
       "      <th>0</th>\n",
       "      <td>1028232</td>\n",
       "      <td>139.001627</td>\n",
       "    </tr>\n",
       "    <tr>\n",
       "      <th>1</th>\n",
       "      <td>1127204</td>\n",
       "      <td>131.775550</td>\n",
       "    </tr>\n",
       "    <tr>\n",
       "      <th>2</th>\n",
       "      <td>1212707</td>\n",
       "      <td>124.235241</td>\n",
       "    </tr>\n",
       "    <tr>\n",
       "      <th>3</th>\n",
       "      <td>1082698</td>\n",
       "      <td>43.913805</td>\n",
       "    </tr>\n",
       "    <tr>\n",
       "      <th>4</th>\n",
       "      <td>1400926</td>\n",
       "      <td>33.590831</td>\n",
       "    </tr>\n",
       "  </tbody>\n",
       "</table>\n",
       "</div>"
      ],
      "text/plain": [
       "        id  num_orders\n",
       "0  1028232  139.001627\n",
       "1  1127204  131.775550\n",
       "2  1212707  124.235241\n",
       "3  1082698   43.913805\n",
       "4  1400926   33.590831"
      ]
     },
     "execution_count": 235,
     "metadata": {},
     "output_type": "execute_result"
    }
   ],
   "source": [
    "sub2=sub.copy()\n",
    "sub2.num_orders=0.6*sub.num_orders+sub1.num_orders*0.4\n",
    "sub2.to_csv('ensemble-xgb-lgb-1.csv',index=False)\n",
    "sub2.head()"
   ]
  },
  {
   "cell_type": "code",
   "execution_count": null,
   "metadata": {},
   "outputs": [],
   "source": []
  }
 ],
 "metadata": {
  "anaconda-cloud": {},
  "kernelspec": {
   "display_name": "Python 3",
   "language": "python",
   "name": "python3"
  },
  "language_info": {
   "codemirror_mode": {
    "name": "ipython",
    "version": 3
   },
   "file_extension": ".py",
   "mimetype": "text/x-python",
   "name": "python",
   "nbconvert_exporter": "python",
   "pygments_lexer": "ipython3",
   "version": "3.6.5"
  }
 },
 "nbformat": 4,
 "nbformat_minor": 2
}
